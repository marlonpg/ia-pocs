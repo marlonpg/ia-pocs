{
 "cells": [
  {
   "cell_type": "code",
   "execution_count": null,
   "metadata": {
    "vscode": {
     "languageId": "plaintext"
    }
   },
   "outputs": [],
   "source": [
    "from surprise import Dataset, Reader, SVD\n",
    "from surprise.model_selection import train_test_split\n",
    "\n",
    "# Load ratings data\n",
    "ratings = pd.read_csv('ratings.csv')\n",
    "\n",
    "# Use the Surprise library for collaborative filtering\n",
    "reader = Reader(rating_scale=(0.5, 5))\n",
    "data = Dataset.load_from_df(ratings[['userId', 'movieId', 'rating']], reader)\n",
    "\n",
    "# Split data into train and test sets\n",
    "trainset, testset = train_test_split(data, test_size=0.25)\n",
    "\n",
    "# Train the model (SVD)\n",
    "model = SVD()\n",
    "model.fit(trainset)\n",
    "\n",
    "# Predict ratings for a user\n",
    "user_id = 1\n",
    "movie_id = 862  # Example: Toy Story\n",
    "predicted_rating = model.predict(user_id, movie_id).est\n",
    "print(f\"Predicted rating for user {user_id} on movie {movie_id}: {predicted_rating}\")\n"
   ]
  }
 ],
 "metadata": {
  "language_info": {
   "name": "python"
  }
 },
 "nbformat": 4,
 "nbformat_minor": 2
}
