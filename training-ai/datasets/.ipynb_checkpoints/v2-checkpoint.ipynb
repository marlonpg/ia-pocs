{
 "cells": [
  {
   "cell_type": "code",
   "execution_count": 1,
   "id": "8f31954d-d3fe-4315-97f1-b978f38d8b78",
   "metadata": {},
   "outputs": [
    {
     "name": "stderr",
     "output_type": "stream",
     "text": [
      "C:\\Users\\Nolr4m\\AppData\\Local\\Temp\\ipykernel_21152\\893660520.py:5: DtypeWarning: Columns (10) have mixed types. Specify dtype option on import or set low_memory=False.\n",
      "  movies = pd.read_csv('movies_metadata.csv')\n"
     ]
    },
    {
     "name": "stdout",
     "output_type": "stream",
     "text": [
      "New csv normalized files saved\n"
     ]
    }
   ],
   "source": [
    "import pandas as pd\n",
    "from sklearn.preprocessing import MinMaxScaler\n",
    "import ast\n",
    "\n",
    "movies = pd.read_csv('movies_metadata.csv')\n",
    "ratings = pd.read_csv('ratings_small.csv')\n",
    "links = pd.read_csv('links_small.csv')\n",
    "credits = pd.read_csv('credits.csv')\n",
    "keywords = pd.read_csv('keywords.csv')\n",
    "\n",
    "# drop rows where data is missing\n",
    "movies.dropna(inplace=True)\n",
    "ratings.dropna(inplace=True)\n",
    "links.dropna(inplace=True)\n",
    "credits.dropna(inplace=True)\n",
    "keywords.dropna(inplace=True)\n",
    "\n",
    "# normalize numerical values\n",
    "# neural networks perform better for fixed range\n",
    "scaler = MinMaxScaler(feature_range=(0, 1))\n",
    "ratings['rating'] = scaler.fit_transform(ratings[['rating']])\n",
    "\n",
    "#extracting from json the names\n",
    "def extract_names(obj):\n",
    "    try:\n",
    "        obj = ast.literal_eval(obj)\n",
    "        return [d['name'] for d in obj]\n",
    "    except (ValueError, SyntaxError):\n",
    "        return []\n",
    "\n",
    "movies['genres'] = movies['genres'].apply(extract_names)\n",
    "credits['cast'] = credits['cast'].apply(extract_names)\n",
    "keywords['keywords'] = keywords['keywords'].apply(extract_names)\n",
    "\n",
    "# save new csv normalized\n",
    "movies.to_csv('updated/movies_cleaned.csv', index=False)\n",
    "ratings.to_csv('updated/ratings_cleaned.csv', index=False)\n",
    "credits.to_csv('updated/credits_cleaned.csv', index=False)\n",
    "keywords.to_csv('updated/keywords_cleaned.csv', index=False)\n",
    "\n",
    "movies_up = pd.read_csv('updated/movies_cleaned.csv')\n",
    "ratings_up = pd.read_csv('updated/ratings_cleaned.csv')\n",
    "credits_up = pd.read_csv('updated/credits_cleaned.csv')\n",
    "keywords_up = pd.read_csv('updated/keywords_cleaned.csv')\n",
    "\n",
    "\n",
    "print(\"New csv normalized files saved\")\n"
   ]
  }
 ],
 "metadata": {
  "kernelspec": {
   "display_name": "Python 3 (ipykernel)",
   "language": "python",
   "name": "python3"
  },
  "language_info": {
   "codemirror_mode": {
    "name": "ipython",
    "version": 3
   },
   "file_extension": ".py",
   "mimetype": "text/x-python",
   "name": "python",
   "nbconvert_exporter": "python",
   "pygments_lexer": "ipython3",
   "version": "3.10.0"
  }
 },
 "nbformat": 4,
 "nbformat_minor": 5
}
