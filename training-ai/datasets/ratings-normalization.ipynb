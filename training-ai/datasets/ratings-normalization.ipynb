{
 "cells": [
  {
   "cell_type": "code",
   "execution_count": 5,
   "id": "0209185f-9591-4803-b6d3-1627ddc7318f",
   "metadata": {},
   "outputs": [
    {
     "name": "stdout",
     "output_type": "stream",
     "text": [
      "   userId  movieId  rating   timestamp\n",
      "0       1      110     1.0  1425941529\n",
      "1       1      147     4.5  1425942435\n",
      "2       1      858     5.0  1425941523\n",
      "3       1     1221     5.0  1425941546\n",
      "4       1     1246     5.0  1425941556\n",
      "userId       0\n",
      "movieId      0\n",
      "rating       0\n",
      "timestamp    0\n",
      "dtype: int64\n",
      "count    2.602429e+07\n",
      "mean     3.528090e+00\n",
      "std      1.065443e+00\n",
      "min      5.000000e-01\n",
      "25%      3.000000e+00\n",
      "50%      3.500000e+00\n",
      "75%      4.000000e+00\n",
      "max      5.000000e+00\n",
      "Name: rating, dtype: float64\n",
      "rating\n",
      "0.5     404897\n",
      "1.0     843310\n",
      "1.5     403607\n",
      "2.0    1762440\n",
      "2.5    1255358\n",
      "3.0    5256722\n",
      "3.5    3116213\n",
      "4.0    6998802\n",
      "4.5    2170441\n",
      "5.0    3812499\n",
      "Name: count, dtype: int64\n",
      "Number of unique users: 270896\n",
      "Number of unique movies: 45115\n"
     ]
    }
   ],
   "source": [
    "import pandas as pd\n",
    "\n",
    "# Load the ratings data\n",
    "ratings = pd.read_csv('ratings.csv')\n",
    "\n",
    "# Display the first few rows\n",
    "print(ratings.head())\n",
    "\n",
    "# check for null values\n",
    "print(ratings.isnull().sum())\n",
    "\n",
    "# check the number of users/votes\n",
    "print(ratings['rating'].describe())\n",
    "print(ratings['rating'].value_counts().sort_index())\n",
    "\n",
    "print(f\"Number of unique users: {ratings['userId'].nunique()}\")\n",
    "print(f\"Number of unique movies: {ratings['movieId'].nunique()}\")"
   ]
  },
  {
   "cell_type": "code",
   "execution_count": null,
   "id": "239a2b70-60db-47bc-9ba3-120d0345d455",
   "metadata": {},
   "outputs": [],
   "source": []
  }
 ],
 "metadata": {
  "kernelspec": {
   "display_name": "Python 3 (ipykernel)",
   "language": "python",
   "name": "python3"
  },
  "language_info": {
   "codemirror_mode": {
    "name": "ipython",
    "version": 3
   },
   "file_extension": ".py",
   "mimetype": "text/x-python",
   "name": "python",
   "nbconvert_exporter": "python",
   "pygments_lexer": "ipython3",
   "version": "3.10.0"
  }
 },
 "nbformat": 4,
 "nbformat_minor": 5
}
